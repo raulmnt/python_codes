{
 "cells": [
  {
   "cell_type": "code",
   "execution_count": 42,
   "id": "0464653c",
   "metadata": {},
   "outputs": [],
   "source": [
    "#Calculate the error propagation in a concentration from the scale uncertainty\n",
    "#Set m_a the mass of analyte and m_m the mass of the matrix material\n",
    "#delta_m will be the uncertainty in the measurement of the scale\n",
    "#C0 is the initial concentration of analyte and delta_C0 its uncertainty\n"
   ]
  },
  {
   "cell_type": "code",
   "execution_count": 14,
   "id": "3f680f6e",
   "metadata": {},
   "outputs": [],
   "source": [
    "#define concentration as a function. weigths are in mg\n",
    "def C(m_a,m_m,delta_m,C0,delta_C0):\n",
    "    #C0 is the main concentration in fraction where m_a is taken from \n",
    "    C_avg=C0*m_a/(m_a+m_m)\n",
    "    \n",
    "    #calculate error in C using the differential equation of propagation of error\n",
    "    delta_C= ((m_m**2+m_a**2)*(delta_m/(m_a+m_m)**2)**2+delta_C0**2)**(1/2)\n",
    "    return print ('concentration is',C_avg,'+-',f\"{delta_C:.4f}\",'in fraction')"
   ]
  },
  {
   "cell_type": "code",
   "execution_count": 16,
   "id": "8273ec71",
   "metadata": {
    "scrolled": true
   },
   "outputs": [
    {
     "name": "stdout",
     "output_type": "stream",
     "text": [
      "concentration is 0.03 +- 0.0001 in fraction\n"
     ]
    }
   ],
   "source": [
    "#Example calculation:\n",
    "#concentration of initial mix using 30mg of 100% +- 0% analyte mixed with 970 mg of matrix material to give a total 1g mix.\n",
    "C(30,970,.1,1,0)"
   ]
  },
  {
   "cell_type": "code",
   "execution_count": 17,
   "id": "47a14e24",
   "metadata": {},
   "outputs": [],
   "source": [
    "#concentration of second mix using 50mg of above concentration of analyte/matrix mix in 700mg of matrix material \n",
    "#to give750mg of mix "
   ]
  },
  {
   "cell_type": "code",
   "execution_count": 18,
   "id": "3ceaeeb7",
   "metadata": {
    "scrolled": true
   },
   "outputs": [
    {
     "name": "stdout",
     "output_type": "stream",
     "text": [
      "concentration is 0.002 +- 0.0002 in fraction\n"
     ]
    }
   ],
   "source": [
    "C(50,700,.1,.03,0.0001)"
   ]
  },
  {
   "cell_type": "code",
   "execution_count": 38,
   "id": "6efadf4a",
   "metadata": {},
   "outputs": [],
   "source": [
    "#I am going to define the function again using the algebraic method, I think the version above is incorrect."
   ]
  },
  {
   "cell_type": "code",
   "execution_count": 1,
   "id": "ccd9a596",
   "metadata": {},
   "outputs": [],
   "source": [
    "#define concentration as a function. weigths are in mg\n",
    "def C(m_a,m_m,delta_m,C0,delta_C0):\n",
    "    #C0 is the main concentration in fraction where m_a is taken from \n",
    "    C_avg=C0*m_a/(m_a+m_m)\n",
    "    \n",
    "    #calculate error in C using the basic functions for propagation of error\n",
    "    \n",
    "    #calculate error of nominator of C\n",
    "    delta_1=(C0*m_a)*((delta_C0/C0)**2+(delta_m/m_a)**2)**(1/2)\n",
    "    \n",
    "    #calculate error of denominator of C\n",
    "    delta_2=(2*delta_m**2)**(1/2)\n",
    "    \n",
    "    #calculate the absolute error of C\n",
    "    delta_C=C_avg*((delta_1/(C0*m_a))**2+(delta_2/(m_m+m_a))**2)**(1/2)\n",
    "       \n",
    "    return print ('concentration is',C_avg,'+-',f\"{delta_C:.4f}\",'in fraction')"
   ]
  },
  {
   "cell_type": "code",
   "execution_count": 2,
   "id": "43c7bb1c",
   "metadata": {},
   "outputs": [
    {
     "name": "stdout",
     "output_type": "stream",
     "text": [
      "concentration is 0.1 +- 0.0002 in fraction\n"
     ]
    }
   ],
   "source": [
    "C(50,450,.1,1,0)"
   ]
  },
  {
   "cell_type": "code",
   "execution_count": 77,
   "id": "697b9770",
   "metadata": {},
   "outputs": [
    {
     "name": "stdout",
     "output_type": "stream",
     "text": [
      "concentration is 0.004975124378109453 +- 0.0001 in fraction\n"
     ]
    }
   ],
   "source": [
    "C(50,955,1,.1,0.002)"
   ]
  },
  {
   "cell_type": "code",
   "execution_count": null,
   "id": "7d09ff2c",
   "metadata": {},
   "outputs": [],
   "source": []
  }
 ],
 "metadata": {
  "kernelspec": {
   "display_name": "Python 3",
   "language": "python",
   "name": "python3"
  },
  "language_info": {
   "codemirror_mode": {
    "name": "ipython",
    "version": 3
   },
   "file_extension": ".py",
   "mimetype": "text/x-python",
   "name": "python",
   "nbconvert_exporter": "python",
   "pygments_lexer": "ipython3",
   "version": "3.8.8"
  }
 },
 "nbformat": 4,
 "nbformat_minor": 5
}
